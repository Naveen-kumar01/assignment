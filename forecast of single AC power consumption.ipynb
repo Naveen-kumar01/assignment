{
 "cells": [
  {
   "cell_type": "markdown",
   "id": "b0c07f73",
   "metadata": {},
   "source": [
    "#### This notebook works on forecasting of power consumption of the AC's individually, so the individual power consumption forecasting can be done on all 18 AC's"
   ]
  },
  {
   "cell_type": "markdown",
   "id": "3aba6c1a",
   "metadata": {},
   "source": [
    "#### we will be using the LSTM neural netrwork to make the forecasting of power consumption."
   ]
  },
  {
   "cell_type": "code",
   "execution_count": 1,
   "id": "25c88d12",
   "metadata": {},
   "outputs": [],
   "source": [
    "import pandas as pd\n",
    "import matplotlib.pyplot as plt\n",
    "from sklearn.preprocessing import MinMaxScaler"
   ]
  },
  {
   "cell_type": "code",
   "execution_count": 2,
   "id": "a72ac972",
   "metadata": {},
   "outputs": [],
   "source": [
    "df=pd.read_csv(r'C:/Users/navee/Desktop/final_data.csv')"
   ]
  },
  {
   "cell_type": "code",
   "execution_count": 3,
   "id": "da33f595",
   "metadata": {},
   "outputs": [
    {
     "data": {
      "text/html": [
       "<div>\n",
       "<style scoped>\n",
       "    .dataframe tbody tr th:only-of-type {\n",
       "        vertical-align: middle;\n",
       "    }\n",
       "\n",
       "    .dataframe tbody tr th {\n",
       "        vertical-align: top;\n",
       "    }\n",
       "\n",
       "    .dataframe thead th {\n",
       "        text-align: right;\n",
       "    }\n",
       "</style>\n",
       "<table border=\"1\" class=\"dataframe\">\n",
       "  <thead>\n",
       "    <tr style=\"text-align: right;\">\n",
       "      <th></th>\n",
       "      <th>Unnamed: 0</th>\n",
       "      <th>Time</th>\n",
       "      <th>AC1</th>\n",
       "      <th>AC2</th>\n",
       "      <th>AC3</th>\n",
       "      <th>AC4</th>\n",
       "      <th>AC5</th>\n",
       "      <th>AC6</th>\n",
       "      <th>AC7</th>\n",
       "      <th>AC8</th>\n",
       "      <th>...</th>\n",
       "      <th>AC12</th>\n",
       "      <th>AC13</th>\n",
       "      <th>AC14</th>\n",
       "      <th>AC15</th>\n",
       "      <th>AC16</th>\n",
       "      <th>AC17</th>\n",
       "      <th>AC18</th>\n",
       "      <th>avg_temp</th>\n",
       "      <th>max_temp</th>\n",
       "      <th>min_temp</th>\n",
       "    </tr>\n",
       "  </thead>\n",
       "  <tbody>\n",
       "    <tr>\n",
       "      <th>0</th>\n",
       "      <td>0</td>\n",
       "      <td>2019-08-01 00:00:00</td>\n",
       "      <td>7.518632</td>\n",
       "      <td>8.788315</td>\n",
       "      <td>0.0</td>\n",
       "      <td>0.0</td>\n",
       "      <td>2.617045</td>\n",
       "      <td>4.079041</td>\n",
       "      <td>2.782276</td>\n",
       "      <td>4.624447</td>\n",
       "      <td>...</td>\n",
       "      <td>0.560373</td>\n",
       "      <td>3.142941</td>\n",
       "      <td>2.749470</td>\n",
       "      <td>5.417774</td>\n",
       "      <td>4.113460</td>\n",
       "      <td>3.305072</td>\n",
       "      <td>6.735981</td>\n",
       "      <td>55</td>\n",
       "      <td>69</td>\n",
       "      <td>41</td>\n",
       "    </tr>\n",
       "    <tr>\n",
       "      <th>1</th>\n",
       "      <td>2</td>\n",
       "      <td>2019-08-01 00:02:00</td>\n",
       "      <td>7.426114</td>\n",
       "      <td>8.940615</td>\n",
       "      <td>0.0</td>\n",
       "      <td>0.0</td>\n",
       "      <td>2.581625</td>\n",
       "      <td>3.781231</td>\n",
       "      <td>2.529366</td>\n",
       "      <td>5.057423</td>\n",
       "      <td>...</td>\n",
       "      <td>1.818730</td>\n",
       "      <td>3.085110</td>\n",
       "      <td>2.720484</td>\n",
       "      <td>3.302422</td>\n",
       "      <td>3.986483</td>\n",
       "      <td>3.220588</td>\n",
       "      <td>6.379500</td>\n",
       "      <td>55</td>\n",
       "      <td>69</td>\n",
       "      <td>41</td>\n",
       "    </tr>\n",
       "    <tr>\n",
       "      <th>2</th>\n",
       "      <td>4</td>\n",
       "      <td>2019-08-01 00:04:00</td>\n",
       "      <td>7.052986</td>\n",
       "      <td>9.161103</td>\n",
       "      <td>0.0</td>\n",
       "      <td>0.0</td>\n",
       "      <td>2.592095</td>\n",
       "      <td>3.800127</td>\n",
       "      <td>2.332304</td>\n",
       "      <td>6.322521</td>\n",
       "      <td>...</td>\n",
       "      <td>2.310409</td>\n",
       "      <td>3.132799</td>\n",
       "      <td>2.676861</td>\n",
       "      <td>3.539026</td>\n",
       "      <td>3.797881</td>\n",
       "      <td>3.131560</td>\n",
       "      <td>6.363475</td>\n",
       "      <td>55</td>\n",
       "      <td>69</td>\n",
       "      <td>41</td>\n",
       "    </tr>\n",
       "    <tr>\n",
       "      <th>3</th>\n",
       "      <td>6</td>\n",
       "      <td>2019-08-01 00:06:00</td>\n",
       "      <td>6.665446</td>\n",
       "      <td>9.065626</td>\n",
       "      <td>0.0</td>\n",
       "      <td>0.0</td>\n",
       "      <td>2.575639</td>\n",
       "      <td>3.772891</td>\n",
       "      <td>2.596200</td>\n",
       "      <td>5.805132</td>\n",
       "      <td>...</td>\n",
       "      <td>2.510972</td>\n",
       "      <td>3.090007</td>\n",
       "      <td>2.666604</td>\n",
       "      <td>4.607439</td>\n",
       "      <td>3.062610</td>\n",
       "      <td>3.063953</td>\n",
       "      <td>6.127366</td>\n",
       "      <td>55</td>\n",
       "      <td>69</td>\n",
       "      <td>41</td>\n",
       "    </tr>\n",
       "    <tr>\n",
       "      <th>4</th>\n",
       "      <td>8</td>\n",
       "      <td>2019-08-01 00:08:00</td>\n",
       "      <td>6.674838</td>\n",
       "      <td>9.096130</td>\n",
       "      <td>0.0</td>\n",
       "      <td>0.0</td>\n",
       "      <td>2.021472</td>\n",
       "      <td>3.155697</td>\n",
       "      <td>2.845417</td>\n",
       "      <td>6.315060</td>\n",
       "      <td>...</td>\n",
       "      <td>2.171791</td>\n",
       "      <td>3.097202</td>\n",
       "      <td>2.710572</td>\n",
       "      <td>5.332696</td>\n",
       "      <td>2.640150</td>\n",
       "      <td>2.864680</td>\n",
       "      <td>5.662474</td>\n",
       "      <td>55</td>\n",
       "      <td>69</td>\n",
       "      <td>41</td>\n",
       "    </tr>\n",
       "  </tbody>\n",
       "</table>\n",
       "<p>5 rows × 23 columns</p>\n",
       "</div>"
      ],
      "text/plain": [
       "   Unnamed: 0                 Time       AC1       AC2  AC3  AC4       AC5  \\\n",
       "0           0  2019-08-01 00:00:00  7.518632  8.788315  0.0  0.0  2.617045   \n",
       "1           2  2019-08-01 00:02:00  7.426114  8.940615  0.0  0.0  2.581625   \n",
       "2           4  2019-08-01 00:04:00  7.052986  9.161103  0.0  0.0  2.592095   \n",
       "3           6  2019-08-01 00:06:00  6.665446  9.065626  0.0  0.0  2.575639   \n",
       "4           8  2019-08-01 00:08:00  6.674838  9.096130  0.0  0.0  2.021472   \n",
       "\n",
       "        AC6       AC7       AC8  ...      AC12      AC13      AC14      AC15  \\\n",
       "0  4.079041  2.782276  4.624447  ...  0.560373  3.142941  2.749470  5.417774   \n",
       "1  3.781231  2.529366  5.057423  ...  1.818730  3.085110  2.720484  3.302422   \n",
       "2  3.800127  2.332304  6.322521  ...  2.310409  3.132799  2.676861  3.539026   \n",
       "3  3.772891  2.596200  5.805132  ...  2.510972  3.090007  2.666604  4.607439   \n",
       "4  3.155697  2.845417  6.315060  ...  2.171791  3.097202  2.710572  5.332696   \n",
       "\n",
       "       AC16      AC17      AC18  avg_temp  max_temp  min_temp  \n",
       "0  4.113460  3.305072  6.735981        55        69        41  \n",
       "1  3.986483  3.220588  6.379500        55        69        41  \n",
       "2  3.797881  3.131560  6.363475        55        69        41  \n",
       "3  3.062610  3.063953  6.127366        55        69        41  \n",
       "4  2.640150  2.864680  5.662474        55        69        41  \n",
       "\n",
       "[5 rows x 23 columns]"
      ]
     },
     "execution_count": 3,
     "metadata": {},
     "output_type": "execute_result"
    }
   ],
   "source": [
    "df.head()"
   ]
  },
  {
   "cell_type": "code",
   "execution_count": 4,
   "id": "bcb88e24",
   "metadata": {},
   "outputs": [],
   "source": [
    "df.drop(columns=['Unnamed: 0'],inplace=True)"
   ]
  },
  {
   "cell_type": "code",
   "execution_count": 5,
   "id": "aef76659",
   "metadata": {},
   "outputs": [
    {
     "data": {
      "text/html": [
       "<div>\n",
       "<style scoped>\n",
       "    .dataframe tbody tr th:only-of-type {\n",
       "        vertical-align: middle;\n",
       "    }\n",
       "\n",
       "    .dataframe tbody tr th {\n",
       "        vertical-align: top;\n",
       "    }\n",
       "\n",
       "    .dataframe thead th {\n",
       "        text-align: right;\n",
       "    }\n",
       "</style>\n",
       "<table border=\"1\" class=\"dataframe\">\n",
       "  <thead>\n",
       "    <tr style=\"text-align: right;\">\n",
       "      <th></th>\n",
       "      <th>Time</th>\n",
       "      <th>AC1</th>\n",
       "      <th>AC2</th>\n",
       "      <th>AC3</th>\n",
       "      <th>AC4</th>\n",
       "      <th>AC5</th>\n",
       "      <th>AC6</th>\n",
       "      <th>AC7</th>\n",
       "      <th>AC8</th>\n",
       "      <th>AC9</th>\n",
       "      <th>...</th>\n",
       "      <th>AC12</th>\n",
       "      <th>AC13</th>\n",
       "      <th>AC14</th>\n",
       "      <th>AC15</th>\n",
       "      <th>AC16</th>\n",
       "      <th>AC17</th>\n",
       "      <th>AC18</th>\n",
       "      <th>avg_temp</th>\n",
       "      <th>max_temp</th>\n",
       "      <th>min_temp</th>\n",
       "    </tr>\n",
       "  </thead>\n",
       "  <tbody>\n",
       "    <tr>\n",
       "      <th>0</th>\n",
       "      <td>2019-08-01 00:00:00</td>\n",
       "      <td>7.518632</td>\n",
       "      <td>8.788315</td>\n",
       "      <td>0.0</td>\n",
       "      <td>0.0</td>\n",
       "      <td>2.617045</td>\n",
       "      <td>4.079041</td>\n",
       "      <td>2.782276</td>\n",
       "      <td>4.624447</td>\n",
       "      <td>5.222060</td>\n",
       "      <td>...</td>\n",
       "      <td>0.560373</td>\n",
       "      <td>3.142941</td>\n",
       "      <td>2.749470</td>\n",
       "      <td>5.417774</td>\n",
       "      <td>4.113460</td>\n",
       "      <td>3.305072</td>\n",
       "      <td>6.735981</td>\n",
       "      <td>55</td>\n",
       "      <td>69</td>\n",
       "      <td>41</td>\n",
       "    </tr>\n",
       "    <tr>\n",
       "      <th>1</th>\n",
       "      <td>2019-08-01 00:02:00</td>\n",
       "      <td>7.426114</td>\n",
       "      <td>8.940615</td>\n",
       "      <td>0.0</td>\n",
       "      <td>0.0</td>\n",
       "      <td>2.581625</td>\n",
       "      <td>3.781231</td>\n",
       "      <td>2.529366</td>\n",
       "      <td>5.057423</td>\n",
       "      <td>5.349465</td>\n",
       "      <td>...</td>\n",
       "      <td>1.818730</td>\n",
       "      <td>3.085110</td>\n",
       "      <td>2.720484</td>\n",
       "      <td>3.302422</td>\n",
       "      <td>3.986483</td>\n",
       "      <td>3.220588</td>\n",
       "      <td>6.379500</td>\n",
       "      <td>55</td>\n",
       "      <td>69</td>\n",
       "      <td>41</td>\n",
       "    </tr>\n",
       "    <tr>\n",
       "      <th>2</th>\n",
       "      <td>2019-08-01 00:04:00</td>\n",
       "      <td>7.052986</td>\n",
       "      <td>9.161103</td>\n",
       "      <td>0.0</td>\n",
       "      <td>0.0</td>\n",
       "      <td>2.592095</td>\n",
       "      <td>3.800127</td>\n",
       "      <td>2.332304</td>\n",
       "      <td>6.322521</td>\n",
       "      <td>3.995392</td>\n",
       "      <td>...</td>\n",
       "      <td>2.310409</td>\n",
       "      <td>3.132799</td>\n",
       "      <td>2.676861</td>\n",
       "      <td>3.539026</td>\n",
       "      <td>3.797881</td>\n",
       "      <td>3.131560</td>\n",
       "      <td>6.363475</td>\n",
       "      <td>55</td>\n",
       "      <td>69</td>\n",
       "      <td>41</td>\n",
       "    </tr>\n",
       "    <tr>\n",
       "      <th>3</th>\n",
       "      <td>2019-08-01 00:06:00</td>\n",
       "      <td>6.665446</td>\n",
       "      <td>9.065626</td>\n",
       "      <td>0.0</td>\n",
       "      <td>0.0</td>\n",
       "      <td>2.575639</td>\n",
       "      <td>3.772891</td>\n",
       "      <td>2.596200</td>\n",
       "      <td>5.805132</td>\n",
       "      <td>3.553778</td>\n",
       "      <td>...</td>\n",
       "      <td>2.510972</td>\n",
       "      <td>3.090007</td>\n",
       "      <td>2.666604</td>\n",
       "      <td>4.607439</td>\n",
       "      <td>3.062610</td>\n",
       "      <td>3.063953</td>\n",
       "      <td>6.127366</td>\n",
       "      <td>55</td>\n",
       "      <td>69</td>\n",
       "      <td>41</td>\n",
       "    </tr>\n",
       "    <tr>\n",
       "      <th>4</th>\n",
       "      <td>2019-08-01 00:08:00</td>\n",
       "      <td>6.674838</td>\n",
       "      <td>9.096130</td>\n",
       "      <td>0.0</td>\n",
       "      <td>0.0</td>\n",
       "      <td>2.021472</td>\n",
       "      <td>3.155697</td>\n",
       "      <td>2.845417</td>\n",
       "      <td>6.315060</td>\n",
       "      <td>3.042244</td>\n",
       "      <td>...</td>\n",
       "      <td>2.171791</td>\n",
       "      <td>3.097202</td>\n",
       "      <td>2.710572</td>\n",
       "      <td>5.332696</td>\n",
       "      <td>2.640150</td>\n",
       "      <td>2.864680</td>\n",
       "      <td>5.662474</td>\n",
       "      <td>55</td>\n",
       "      <td>69</td>\n",
       "      <td>41</td>\n",
       "    </tr>\n",
       "  </tbody>\n",
       "</table>\n",
       "<p>5 rows × 22 columns</p>\n",
       "</div>"
      ],
      "text/plain": [
       "                  Time       AC1       AC2  AC3  AC4       AC5       AC6  \\\n",
       "0  2019-08-01 00:00:00  7.518632  8.788315  0.0  0.0  2.617045  4.079041   \n",
       "1  2019-08-01 00:02:00  7.426114  8.940615  0.0  0.0  2.581625  3.781231   \n",
       "2  2019-08-01 00:04:00  7.052986  9.161103  0.0  0.0  2.592095  3.800127   \n",
       "3  2019-08-01 00:06:00  6.665446  9.065626  0.0  0.0  2.575639  3.772891   \n",
       "4  2019-08-01 00:08:00  6.674838  9.096130  0.0  0.0  2.021472  3.155697   \n",
       "\n",
       "        AC7       AC8       AC9  ...      AC12      AC13      AC14      AC15  \\\n",
       "0  2.782276  4.624447  5.222060  ...  0.560373  3.142941  2.749470  5.417774   \n",
       "1  2.529366  5.057423  5.349465  ...  1.818730  3.085110  2.720484  3.302422   \n",
       "2  2.332304  6.322521  3.995392  ...  2.310409  3.132799  2.676861  3.539026   \n",
       "3  2.596200  5.805132  3.553778  ...  2.510972  3.090007  2.666604  4.607439   \n",
       "4  2.845417  6.315060  3.042244  ...  2.171791  3.097202  2.710572  5.332696   \n",
       "\n",
       "       AC16      AC17      AC18  avg_temp  max_temp  min_temp  \n",
       "0  4.113460  3.305072  6.735981        55        69        41  \n",
       "1  3.986483  3.220588  6.379500        55        69        41  \n",
       "2  3.797881  3.131560  6.363475        55        69        41  \n",
       "3  3.062610  3.063953  6.127366        55        69        41  \n",
       "4  2.640150  2.864680  5.662474        55        69        41  \n",
       "\n",
       "[5 rows x 22 columns]"
      ]
     },
     "execution_count": 5,
     "metadata": {},
     "output_type": "execute_result"
    }
   ],
   "source": [
    "df.head()"
   ]
  },
  {
   "cell_type": "code",
   "execution_count": 6,
   "id": "cf08ebf7",
   "metadata": {},
   "outputs": [],
   "source": [
    "df1=df.reset_index()['AC1']"
   ]
  },
  {
   "cell_type": "code",
   "execution_count": 7,
   "id": "65c227aa",
   "metadata": {},
   "outputs": [
    {
     "data": {
      "text/plain": [
       "0    7.518632\n",
       "1    7.426114\n",
       "2    7.052986\n",
       "3    6.665446\n",
       "4    6.674838\n",
       "Name: AC1, dtype: float64"
      ]
     },
     "execution_count": 7,
     "metadata": {},
     "output_type": "execute_result"
    }
   ],
   "source": [
    "df1.head()"
   ]
  },
  {
   "cell_type": "code",
   "execution_count": 8,
   "id": "08468883",
   "metadata": {},
   "outputs": [
    {
     "data": {
      "text/plain": [
       "[<matplotlib.lines.Line2D at 0x221c65ef3a0>]"
      ]
     },
     "execution_count": 8,
     "metadata": {},
     "output_type": "execute_result"
    },
    {
     "data": {
      "image/png": "[encoded data removed]",
      "text/plain": [
       "<Figure size 432x288 with 1 Axes>"
      ]
     },
     "metadata": {
      "needs_background": "light"
     },
     "output_type": "display_data"
    }
   ],
   "source": [
    "import matplotlib.pyplot as plt\n",
    "plt.plot(df1)"
   ]
  },
  {
   "cell_type": "markdown",
   "id": "3976165d",
   "metadata": {},
   "source": [
    "#### standard scaling the data in range 0 to 1, so it can be scaled and perform better in the LSTM model"
   ]
  },
  {
   "cell_type": "code",
   "execution_count": 9,
   "id": "e0abb805",
   "metadata": {},
   "outputs": [],
   "source": [
    "import numpy as np\n",
    "from sklearn.preprocessing import MinMaxScaler\n",
    "scaler=MinMaxScaler(feature_range=(0,1))\n",
    "df1=scaler.fit_transform(np.array(df1).reshape(-1,1))"
   ]
  },
  {
   "cell_type": "code",
   "execution_count": 10,
   "id": "7e695760",
   "metadata": {},
   "outputs": [
    {
     "data": {
      "text/plain": [
       "array([[0.67161889],\n",
       "       [0.66335455],\n",
       "       [0.630024  ],\n",
       "       ...,\n",
       "       [0.        ],\n",
       "       [0.10801236],\n",
       "       [0.12777748]])"
      ]
     },
     "execution_count": 10,
     "metadata": {},
     "output_type": "execute_result"
    }
   ],
   "source": [
    "df1"
   ]
  },
  {
   "cell_type": "code",
   "execution_count": 11,
   "id": "f35d5519",
   "metadata": {},
   "outputs": [
    {
     "data": {
      "text/plain": [
       "[<matplotlib.lines.Line2D at 0x221c669d610>]"
      ]
     },
     "execution_count": 11,
     "metadata": {},
     "output_type": "execute_result"
    },
    {
     "data": {
      "image/png": "[encoded data removed]",
      "text/plain": [
       "<Figure size 432x288 with 1 Axes>"
      ]
     },
     "metadata": {
      "needs_background": "light"
     },
     "output_type": "display_data"
    }
   ],
   "source": [
    "import matplotlib.pyplot as plt\n",
    "plt.plot(df1)"
   ]
  },
  {
   "cell_type": "code",
   "execution_count": 12,
   "id": "9f7b73f3",
   "metadata": {},
   "outputs": [],
   "source": [
    "training_size=int(len(df1)*0.65)\n",
    "test_size=len(df1)-training_size\n",
    "train_data,test_data=df1[0:training_size,:],df1[training_size:len(df1),:1]"
   ]
  },
  {
   "cell_type": "code",
   "execution_count": 13,
   "id": "5db562c1",
   "metadata": {},
   "outputs": [
    {
     "data": {
      "text/plain": [
       "(22517, 12125)"
      ]
     },
     "execution_count": 13,
     "metadata": {},
     "output_type": "execute_result"
    }
   ],
   "source": [
    "training_size,test_size"
   ]
  },
  {
   "cell_type": "markdown",
   "id": "50ae3779",
   "metadata": {},
   "source": [
    "#### this method will shift the AC1 value to 100 and will provide 100 value for the prediction to the model to learn. After learnig from previous 100 datapoints the model can recognise the pattern and start the forecasting process."
   ]
  },
  {
   "cell_type": "code",
   "execution_count": 14,
   "id": "d4411221",
   "metadata": {},
   "outputs": [],
   "source": [
    "def create_dataset(dataset, time_step=1):\n",
    "    dataX, dataY = [], []\n",
    "    for i in range(len(dataset)-time_step-1):\n",
    "        a = dataset[i:(i+time_step), 0]   ###i=0, 0,1,2,3-----99   100 \n",
    "        dataX.append(a)\n",
    "        dataY.append(dataset[i + time_step, 0])\n",
    "    return np.array(dataX), np.array(dataY)"
   ]
  },
  {
   "cell_type": "code",
   "execution_count": 15,
   "id": "494378c8",
   "metadata": {},
   "outputs": [],
   "source": [
    "time_step = 100\n",
    "X_train, y_train = create_dataset(train_data, time_step)\n",
    "X_test, ytest = create_dataset(test_data, time_step)"
   ]
  },
  {
   "cell_type": "code",
   "execution_count": 16,
   "id": "d00ccd6a",
   "metadata": {},
   "outputs": [
    {
     "name": "stdout",
     "output_type": "stream",
     "text": [
      "(22416, 100)\n",
      "(22416,)\n"
     ]
    }
   ],
   "source": [
    "print(X_train.shape)\n",
    "print(y_train.shape)"
   ]
  },
  {
   "cell_type": "code",
   "execution_count": 17,
   "id": "c30b2e6a",
   "metadata": {},
   "outputs": [
    {
     "name": "stdout",
     "output_type": "stream",
     "text": [
      "(12024, 100)\n",
      "(12024,)\n"
     ]
    }
   ],
   "source": [
    "print(X_test.shape)\n",
    "print(ytest.shape)"
   ]
  },
  {
   "cell_type": "code",
   "execution_count": 18,
   "id": "00fcac7f",
   "metadata": {},
   "outputs": [],
   "source": [
    "X_train =X_train.reshape(X_train.shape[0],X_train.shape[1] , 1)\n",
    "X_test = X_test.reshape(X_test.shape[0],X_test.shape[1] , 1)"
   ]
  },
  {
   "cell_type": "code",
   "execution_count": 21,
   "id": "3e570aed",
   "metadata": {},
   "outputs": [
    {
     "name": "stdout",
     "output_type": "stream",
     "text": [
      "Collecting tensorflow==2.2\n",
      "  Using cached tensorflow-2.2.0-cp38-cp38-win_amd64.whl (459.2 MB)\n",
      "Collecting gast==0.3.3\n",
      "  Using cached gast-0.3.3-py2.py3-none-any.whl (9.7 kB)\n",
      "Requirement already satisfied: numpy<2.0,>=1.16.0 in c:\\users\\navee\\anaconda3\\lib\\site-packages (from tensorflow==2.2) (1.18.5)\n",
      "Requirement already satisfied: six>=1.12.0 in c:\\users\\navee\\anaconda3\\lib\\site-packages (from tensorflow==2.2) (1.16.0)\n",
      "Requirement already satisfied: astunparse==1.6.3 in c:\\users\\navee\\anaconda3\\lib\\site-packages (from tensorflow==2.2) (1.6.3)\n",
      "Requirement already satisfied: keras-preprocessing>=1.1.0 in c:\\users\\navee\\anaconda3\\lib\\site-packages (from tensorflow==2.2) (1.1.2)\n",
      "Requirement already satisfied: wheel>=0.26 in c:\\users\\navee\\anaconda3\\lib\\site-packages (from tensorflow==2.2) (0.37.0)\n",
      "Collecting h5py<2.11.0,>=2.10.0\n",
      "  Using cached h5py-2.10.0-cp38-cp38-win_amd64.whl (2.5 MB)\n",
      "Requirement already satisfied: tensorflow-estimator<2.3.0,>=2.2.0 in c:\\users\\navee\\anaconda3\\lib\\site-packages (from tensorflow==2.2) (2.2.0)\n",
      "Requirement already satisfied: grpcio>=1.8.6 in c:\\users\\navee\\anaconda3\\lib\\site-packages (from tensorflow==2.2) (1.34.1)\n",
      "Requirement already satisfied: scipy==1.4.1 in c:\\users\\navee\\anaconda3\\lib\\site-packages (from tensorflow==2.2) (1.4.1)\n",
      "Requirement already satisfied: absl-py>=0.7.0 in c:\\users\\navee\\anaconda3\\lib\\site-packages (from tensorflow==2.2) (0.13.0)\n",
      "Requirement already satisfied: google-pasta>=0.1.8 in c:\\users\\navee\\anaconda3\\lib\\site-packages (from tensorflow==2.2) (0.2.0)\n",
      "Requirement already satisfied: opt-einsum>=2.3.2 in c:\\users\\navee\\anaconda3\\lib\\site-packages (from tensorflow==2.2) (3.3.0)\n",
      "Requirement already satisfied: wrapt>=1.11.1 in c:\\users\\navee\\anaconda3\\lib\\site-packages (from tensorflow==2.2) (1.12.1)\n",
      "Requirement already satisfied: tensorboard<2.3.0,>=2.2.0 in c:\\users\\navee\\anaconda3\\lib\\site-packages (from tensorflow==2.2) (2.2.2)\n",
      "Requirement already satisfied: protobuf>=3.8.0 in c:\\users\\navee\\anaconda3\\lib\\site-packages (from tensorflow==2.2) (3.17.3)\n",
      "Requirement already satisfied: termcolor>=1.1.0 in c:\\users\\navee\\anaconda3\\lib\\site-packages (from tensorflow==2.2) (1.1.0)\n",
      "Requirement already satisfied: requests<3,>=2.21.0 in c:\\users\\navee\\anaconda3\\lib\\site-packages (from tensorboard<2.3.0,>=2.2.0->tensorflow==2.2) (2.26.0)\n",
      "Requirement already satisfied: setuptools>=41.0.0 in c:\\users\\navee\\anaconda3\\lib\\site-packages (from tensorboard<2.3.0,>=2.2.0->tensorflow==2.2) (58.0.4)\n",
      "Requirement already satisfied: werkzeug>=0.11.15 in c:\\users\\navee\\anaconda3\\lib\\site-packages (from tensorboard<2.3.0,>=2.2.0->tensorflow==2.2) (2.0.1)\n",
      "Requirement already satisfied: google-auth<2,>=1.6.3 in c:\\users\\navee\\anaconda3\\lib\\site-packages (from tensorboard<2.3.0,>=2.2.0->tensorflow==2.2) (1.35.0)\n",
      "Requirement already satisfied: markdown>=2.6.8 in c:\\users\\navee\\anaconda3\\lib\\site-packages (from tensorboard<2.3.0,>=2.2.0->tensorflow==2.2) (3.3.4)\n",
      "Requirement already satisfied: tensorboard-plugin-wit>=1.6.0 in c:\\users\\navee\\anaconda3\\lib\\site-packages (from tensorboard<2.3.0,>=2.2.0->tensorflow==2.2) (1.8.0)\n",
      "Requirement already satisfied: google-auth-oauthlib<0.5,>=0.4.1 in c:\\users\\navee\\anaconda3\\lib\\site-packages (from tensorboard<2.3.0,>=2.2.0->tensorflow==2.2) (0.4.6)\n",
      "Requirement already satisfied: rsa<5,>=3.1.4 in c:\\users\\navee\\anaconda3\\lib\\site-packages (from google-auth<2,>=1.6.3->tensorboard<2.3.0,>=2.2.0->tensorflow==2.2) (4.7.2)\n",
      "Requirement already satisfied: pyasn1-modules>=0.2.1 in c:\\users\\navee\\anaconda3\\lib\\site-packages (from google-auth<2,>=1.6.3->tensorboard<2.3.0,>=2.2.0->tensorflow==2.2) (0.2.8)\n",
      "Requirement already satisfied: cachetools<5.0,>=2.0.0 in c:\\users\\navee\\anaconda3\\lib\\site-packages (from google-auth<2,>=1.6.3->tensorboard<2.3.0,>=2.2.0->tensorflow==2.2) (4.2.2)\n",
      "Requirement already satisfied: requests-oauthlib>=0.7.0 in c:\\users\\navee\\anaconda3\\lib\\site-packages (from google-auth-oauthlib<0.5,>=0.4.1->tensorboard<2.3.0,>=2.2.0->tensorflow==2.2) (1.3.0)\n",
      "Requirement already satisfied: pyasn1<0.5.0,>=0.4.6 in c:\\users\\navee\\anaconda3\\lib\\site-packages (from pyasn1-modules>=0.2.1->google-auth<2,>=1.6.3->tensorboard<2.3.0,>=2.2.0->tensorflow==2.2) (0.4.8)\n",
      "Requirement already satisfied: charset-normalizer~=2.0.0 in c:\\users\\navee\\anaconda3\\lib\\site-packages (from requests<3,>=2.21.0->tensorboard<2.3.0,>=2.2.0->tensorflow==2.2) (2.0.4)\n",
      "Requirement already satisfied: urllib3<1.27,>=1.21.1 in c:\\users\\navee\\anaconda3\\lib\\site-packages (from requests<3,>=2.21.0->tensorboard<2.3.0,>=2.2.0->tensorflow==2.2) (1.26.6)\n",
      "Requirement already satisfied: certifi>=2017.4.17 in c:\\users\\navee\\anaconda3\\lib\\site-packages (from requests<3,>=2.21.0->tensorboard<2.3.0,>=2.2.0->tensorflow==2.2) (2021.5.30)\n",
      "Requirement already satisfied: idna<4,>=2.5 in c:\\users\\navee\\anaconda3\\lib\\site-packages (from requests<3,>=2.21.0->tensorboard<2.3.0,>=2.2.0->tensorflow==2.2) (3.2)\n",
      "Requirement already satisfied: oauthlib>=3.0.0 in c:\\users\\navee\\anaconda3\\lib\\site-packages (from requests-oauthlib>=0.7.0->google-auth-oauthlib<0.5,>=0.4.1->tensorboard<2.3.0,>=2.2.0->tensorflow==2.2) (3.1.1)\n",
      "Installing collected packages: h5py, gast, tensorflow\n",
      "  Attempting uninstall: h5py\n",
      "    Found existing installation: h5py 3.1.0\n",
      "    Uninstalling h5py-3.1.0:\n",
      "      Successfully uninstalled h5py-3.1.0\n",
      "  Attempting uninstall: gast\n",
      "    Found existing installation: gast 0.4.0\n",
      "    Uninstalling gast-0.4.0:\n",
      "      Successfully uninstalled gast-0.4.0\n",
      "Successfully installed gast-0.3.3 h5py-2.10.0 tensorflow-2.2.0\n"
     ]
    }
   ],
   "source": [
    "!pip install tensorflow==2.2"
   ]
  },
  {
   "cell_type": "code",
   "execution_count": 22,
   "id": "e9ebc152",
   "metadata": {},
   "outputs": [],
   "source": [
    "from tensorflow.keras.models import Sequential\n",
    "from tensorflow.keras.layers import Dense\n",
    "from tensorflow.keras.layers import LSTM"
   ]
  },
  {
   "cell_type": "code",
   "execution_count": 23,
   "id": "ecb8cc48",
   "metadata": {},
   "outputs": [],
   "source": [
    "model=Sequential()\n",
    "model.add(LSTM(50,return_sequences=True,input_shape=(100,1)))\n",
    "model.add(LSTM(50,return_sequences=True))\n",
    "model.add(LSTM(50))\n",
    "model.add(Dense(1))\n",
    "model.compile(loss='mean_squared_error',optimizer='adam')"
   ]
  },
  {
   "cell_type": "code",
   "execution_count": 24,
   "id": "20ec5379",
   "metadata": {},
   "outputs": [
    {
     "name": "stdout",
     "output_type": "stream",
     "text": [
      "Model: \"sequential\"\n",
      "_________________________________________________________________\n",
      "Layer (type)                 Output Shape              Param #   \n",
      "=================================================================\n",
      "lstm (LSTM)                  (None, 100, 50)           10400     \n",
      "_________________________________________________________________\n",
      "lstm_1 (LSTM)                (None, 100, 50)           20200     \n",
      "_________________________________________________________________\n",
      "lstm_2 (LSTM)                (None, 50)                20200     \n",
      "_________________________________________________________________\n",
      "dense (Dense)                (None, 1)                 51        \n",
      "=================================================================\n",
      "Total params: 50,851\n",
      "Trainable params: 50,851\n",
      "Non-trainable params: 0\n",
      "_________________________________________________________________\n"
     ]
    }
   ],
   "source": [
    "model.summary()"
   ]
  },
  {
   "cell_type": "code",
   "execution_count": 25,
   "id": "886db1da",
   "metadata": {},
   "outputs": [
    {
     "name": "stdout",
     "output_type": "stream",
     "text": [
      "Epoch 1/100\n",
      "351/351 [==============================] - 56s 160ms/step - loss: 0.0097 - val_loss: 0.0109\n",
      "Epoch 2/100\n",
      "351/351 [==============================] - 55s 157ms/step - loss: 0.0063 - val_loss: 0.0053\n",
      "Epoch 3/100\n",
      "351/351 [==============================] - 55s 158ms/step - loss: 0.0046 - val_loss: 0.0051\n",
      "Epoch 4/100\n",
      "351/351 [==============================] - 57s 164ms/step - loss: 0.0045 - val_loss: 0.0051\n",
      "Epoch 5/100\n",
      "351/351 [==============================] - 85s 242ms/step - loss: 0.0044 - val_loss: 0.0051\n",
      "Epoch 6/100\n",
      "351/351 [==============================] - 60s 171ms/step - loss: 0.0044 - val_loss: 0.0053\n",
      "Epoch 7/100\n",
      "351/351 [==============================] - 69s 197ms/step - loss: 0.0044 - val_loss: 0.0052\n",
      "Epoch 8/100\n",
      "351/351 [==============================] - 59s 168ms/step - loss: 0.0043 - val_loss: 0.0059\n",
      "Epoch 9/100\n",
      "351/351 [==============================] - 65s 186ms/step - loss: 0.0043 - val_loss: 0.0051\n",
      "Epoch 10/100\n",
      "351/351 [==============================] - 71s 202ms/step - loss: 0.0043 - val_loss: 0.0051\n",
      "Epoch 11/100\n",
      "351/351 [==============================] - 68s 193ms/step - loss: 0.0043 - val_loss: 0.0053\n",
      "Epoch 12/100\n",
      "351/351 [==============================] - 72s 205ms/step - loss: 0.0042 - val_loss: 0.0051\n",
      "Epoch 13/100\n",
      "351/351 [==============================] - 60s 170ms/step - loss: 0.0042 - val_loss: 0.0049\n",
      "Epoch 14/100\n",
      "351/351 [==============================] - 84s 240ms/step - loss: 0.0041 - val_loss: 0.0049\n",
      "Epoch 15/100\n",
      "351/351 [==============================] - 59s 169ms/step - loss: 0.0040 - val_loss: 0.0048\n",
      "Epoch 16/100\n",
      "351/351 [==============================] - 75s 213ms/step - loss: 0.0040 - val_loss: 0.0050\n",
      "Epoch 17/100\n",
      "351/351 [==============================] - 59s 169ms/step - loss: 0.0039 - val_loss: 0.0052\n",
      "Epoch 18/100\n",
      "351/351 [==============================] - 72s 206ms/step - loss: 0.0038 - val_loss: 0.0049\n",
      "Epoch 19/100\n",
      "351/351 [==============================] - 61s 173ms/step - loss: 0.0038 - val_loss: 0.0046\n",
      "Epoch 20/100\n",
      "351/351 [==============================] - 72s 206ms/step - loss: 0.0037 - val_loss: 0.0046\n",
      "Epoch 21/100\n",
      "351/351 [==============================] - 63s 180ms/step - loss: 0.0036 - val_loss: 0.0047\n",
      "Epoch 22/100\n",
      "351/351 [==============================] - 67s 191ms/step - loss: 0.0036 - val_loss: 0.0047\n",
      "Epoch 23/100\n",
      "351/351 [==============================] - 65s 185ms/step - loss: 0.0036 - val_loss: 0.0046\n",
      "Epoch 24/100\n",
      "351/351 [==============================] - 66s 189ms/step - loss: 0.0036 - val_loss: 0.0045\n",
      "Epoch 25/100\n",
      "351/351 [==============================] - 65s 185ms/step - loss: 0.0035 - val_loss: 0.0045\n",
      "Epoch 26/100\n",
      "351/351 [==============================] - 74s 210ms/step - loss: 0.0035 - val_loss: 0.0045\n",
      "Epoch 27/100\n",
      "351/351 [==============================] - 63s 178ms/step - loss: 0.0035 - val_loss: 0.0045\n",
      "Epoch 28/100\n",
      "351/351 [==============================] - 75s 214ms/step - loss: 0.0035 - val_loss: 0.0044\n",
      "Epoch 29/100\n",
      "351/351 [==============================] - 61s 174ms/step - loss: 0.0035 - val_loss: 0.0045\n",
      "Epoch 30/100\n",
      "351/351 [==============================] - 76s 217ms/step - loss: 0.0034 - val_loss: 0.0046\n",
      "Epoch 31/100\n",
      "351/351 [==============================] - 60s 172ms/step - loss: 0.0034 - val_loss: 0.0044\n",
      "Epoch 32/100\n",
      "351/351 [==============================] - 75s 213ms/step - loss: 0.0034 - val_loss: 0.0045\n",
      "Epoch 33/100\n",
      "351/351 [==============================] - 60s 170ms/step - loss: 0.0034 - val_loss: 0.0044\n",
      "Epoch 34/100\n",
      "351/351 [==============================] - 75s 213ms/step - loss: 0.0034 - val_loss: 0.0044\n",
      "Epoch 35/100\n",
      "351/351 [==============================] - 62s 177ms/step - loss: 0.0034 - val_loss: 0.0046\n",
      "Epoch 36/100\n",
      "351/351 [==============================] - 77s 219ms/step - loss: 0.0033 - val_loss: 0.0044\n",
      "Epoch 37/100\n",
      "351/351 [==============================] - 65s 185ms/step - loss: 0.0033 - val_loss: 0.0045\n",
      "Epoch 38/100\n",
      "351/351 [==============================] - 75s 212ms/step - loss: 0.0033 - val_loss: 0.0045\n",
      "Epoch 39/100\n",
      "351/351 [==============================] - 69s 197ms/step - loss: 0.0033 - val_loss: 0.0044\n",
      "Epoch 40/100\n",
      "351/351 [==============================] - 69s 197ms/step - loss: 0.0033 - val_loss: 0.0044\n",
      "Epoch 41/100\n",
      "351/351 [==============================] - 67s 192ms/step - loss: 0.0033 - val_loss: 0.0044\n",
      "Epoch 42/100\n",
      "351/351 [==============================] - 73s 207ms/step - loss: 0.0032 - val_loss: 0.0044\n",
      "Epoch 43/100\n",
      "351/351 [==============================] - 65s 186ms/step - loss: 0.0032 - val_loss: 0.0045\n",
      "Epoch 44/100\n",
      "351/351 [==============================] - 73s 209ms/step - loss: 0.0032 - val_loss: 0.0044\n",
      "Epoch 45/100\n",
      "351/351 [==============================] - 69s 196ms/step - loss: 0.0032 - val_loss: 0.0045\n",
      "Epoch 46/100\n",
      "351/351 [==============================] - 68s 193ms/step - loss: 0.0032 - val_loss: 0.0044\n",
      "Epoch 47/100\n",
      "351/351 [==============================] - 66s 189ms/step - loss: 0.0031 - val_loss: 0.0045\n",
      "Epoch 48/100\n",
      "351/351 [==============================] - 71s 201ms/step - loss: 0.0031 - val_loss: 0.0047\n",
      "Epoch 49/100\n",
      "351/351 [==============================] - 63s 180ms/step - loss: 0.0031 - val_loss: 0.0046\n",
      "Epoch 50/100\n",
      "351/351 [==============================] - 71s 202ms/step - loss: 0.0031 - val_loss: 0.0045\n",
      "Epoch 51/100\n",
      "351/351 [==============================] - 65s 186ms/step - loss: 0.0031 - val_loss: 0.0046\n",
      "Epoch 52/100\n",
      "351/351 [==============================] - 67s 191ms/step - loss: 0.0031 - val_loss: 0.0045\n",
      "Epoch 53/100\n",
      "351/351 [==============================] - 63s 180ms/step - loss: 0.0030 - val_loss: 0.0045\n",
      "Epoch 54/100\n",
      "351/351 [==============================] - 70s 200ms/step - loss: 0.0030 - val_loss: 0.0046\n",
      "Epoch 55/100\n",
      "351/351 [==============================] - 61s 175ms/step - loss: 0.0030 - val_loss: 0.0046\n",
      "Epoch 56/100\n",
      "351/351 [==============================] - 72s 205ms/step - loss: 0.0030 - val_loss: 0.0044\n",
      "Epoch 57/100\n",
      "351/351 [==============================] - 59s 167ms/step - loss: 0.0030 - val_loss: 0.0045\n",
      "Epoch 58/100\n",
      "351/351 [==============================] - 71s 204ms/step - loss: 0.0029 - val_loss: 0.0046\n",
      "Epoch 59/100\n",
      "351/351 [==============================] - 59s 168ms/step - loss: 0.0029 - val_loss: 0.0045\n",
      "Epoch 60/100\n",
      "351/351 [==============================] - 73s 208ms/step - loss: 0.0029 - val_loss: 0.0045\n",
      "Epoch 61/100\n",
      "351/351 [==============================] - 58s 166ms/step - loss: 0.0029 - val_loss: 0.0047\n",
      "Epoch 62/100\n",
      "351/351 [==============================] - 74s 211ms/step - loss: 0.0029 - val_loss: 0.0047\n",
      "Epoch 63/100\n",
      "351/351 [==============================] - 58s 166ms/step - loss: 0.0028 - val_loss: 0.0045\n",
      "Epoch 64/100\n",
      "351/351 [==============================] - 73s 207ms/step - loss: 0.0028 - val_loss: 0.0047\n",
      "Epoch 65/100\n",
      "351/351 [==============================] - 58s 164ms/step - loss: 0.0028 - val_loss: 0.0046\n",
      "Epoch 66/100\n",
      "351/351 [==============================] - 72s 206ms/step - loss: 0.0028 - val_loss: 0.0049\n",
      "Epoch 67/100\n",
      "351/351 [==============================] - 58s 164ms/step - loss: 0.0027 - val_loss: 0.0048\n",
      "Epoch 68/100\n",
      "351/351 [==============================] - 73s 209ms/step - loss: 0.0027 - val_loss: 0.0048\n",
      "Epoch 69/100\n",
      "351/351 [==============================] - 60s 170ms/step - loss: 0.0027 - val_loss: 0.0047\n",
      "Epoch 70/100\n",
      "351/351 [==============================] - 74s 210ms/step - loss: 0.0027 - val_loss: 0.0047\n",
      "Epoch 71/100\n",
      "351/351 [==============================] - 61s 175ms/step - loss: 0.0027 - val_loss: 0.0048\n",
      "Epoch 72/100\n",
      "351/351 [==============================] - 77s 220ms/step - loss: 0.0026 - val_loss: 0.0048\n",
      "Epoch 73/100\n",
      "351/351 [==============================] - 60s 172ms/step - loss: 0.0027 - val_loss: 0.0048\n",
      "Epoch 74/100\n",
      "351/351 [==============================] - 74s 210ms/step - loss: 0.0026 - val_loss: 0.0048\n",
      "Epoch 75/100\n",
      "351/351 [==============================] - 61s 173ms/step - loss: 0.0026 - val_loss: 0.0048\n",
      "Epoch 76/100\n",
      "351/351 [==============================] - 71s 203ms/step - loss: 0.0026 - val_loss: 0.0048\n",
      "Epoch 77/100\n",
      "351/351 [==============================] - 62s 176ms/step - loss: 0.0026 - val_loss: 0.0048\n",
      "Epoch 78/100\n",
      "351/351 [==============================] - 71s 204ms/step - loss: 0.0025 - val_loss: 0.0049\n",
      "Epoch 79/100\n"
     ]
    },
    {
     "name": "stdout",
     "output_type": "stream",
     "text": [
      "351/351 [==============================] - 63s 181ms/step - loss: 0.0025 - val_loss: 0.0050\n",
      "Epoch 80/100\n",
      "351/351 [==============================] - 69s 196ms/step - loss: 0.0025 - val_loss: 0.0049\n",
      "Epoch 81/100\n",
      "351/351 [==============================] - 64s 182ms/step - loss: 0.0025 - val_loss: 0.0051\n",
      "Epoch 82/100\n",
      "351/351 [==============================] - 67s 192ms/step - loss: 0.0026 - val_loss: 0.0050\n",
      "Epoch 83/100\n",
      "351/351 [==============================] - 66s 187ms/step - loss: 0.0024 - val_loss: 0.0051\n",
      "Epoch 84/100\n",
      "351/351 [==============================] - 66s 189ms/step - loss: 0.0024 - val_loss: 0.0050\n",
      "Epoch 85/100\n",
      "351/351 [==============================] - 66s 188ms/step - loss: 0.0024 - val_loss: 0.0052\n",
      "Epoch 86/100\n",
      "351/351 [==============================] - 65s 185ms/step - loss: 0.0024 - val_loss: 0.0049\n",
      "Epoch 87/100\n",
      "351/351 [==============================] - 67s 192ms/step - loss: 0.0023 - val_loss: 0.0052\n",
      "Epoch 88/100\n",
      "351/351 [==============================] - 64s 184ms/step - loss: 0.0023 - val_loss: 0.0052\n",
      "Epoch 89/100\n",
      "351/351 [==============================] - 69s 195ms/step - loss: 0.0023 - val_loss: 0.0052\n",
      "Epoch 90/100\n",
      "351/351 [==============================] - 62s 178ms/step - loss: 0.0023 - val_loss: 0.0054\n",
      "Epoch 91/100\n",
      "351/351 [==============================] - 70s 198ms/step - loss: 0.0023 - val_loss: 0.0054\n",
      "Epoch 92/100\n",
      "351/351 [==============================] - 61s 173ms/step - loss: 0.0022 - val_loss: 0.0052\n",
      "Epoch 93/100\n",
      "351/351 [==============================] - 70s 200ms/step - loss: 0.0022 - val_loss: 0.0052\n",
      "Epoch 94/100\n",
      "351/351 [==============================] - 60s 171ms/step - loss: 0.0022 - val_loss: 0.0054\n",
      "Epoch 95/100\n",
      "351/351 [==============================] - 72s 206ms/step - loss: 0.0021 - val_loss: 0.0053\n",
      "Epoch 96/100\n",
      "351/351 [==============================] - 61s 174ms/step - loss: 0.0022 - val_loss: 0.0054\n",
      "Epoch 97/100\n",
      "351/351 [==============================] - 73s 209ms/step - loss: 0.0022 - val_loss: 0.0053\n",
      "Epoch 98/100\n",
      "351/351 [==============================] - 60s 172ms/step - loss: 0.0021 - val_loss: 0.0054\n",
      "Epoch 99/100\n",
      "351/351 [==============================] - 72s 207ms/step - loss: 0.0021 - val_loss: 0.0056\n",
      "Epoch 100/100\n",
      "351/351 [==============================] - 60s 171ms/step - loss: 0.0021 - val_loss: 0.0056\n"
     ]
    },
    {
     "data": {
      "text/plain": [
       "<tensorflow.python.keras.callbacks.History at 0x221d8e7f070>"
      ]
     },
     "execution_count": 25,
     "metadata": {},
     "output_type": "execute_result"
    }
   ],
   "source": [
    "model.fit(X_train,y_train,validation_data=(X_test,ytest),epochs=100,batch_size=64,verbose=1)"
   ]
  },
  {
   "cell_type": "code",
   "execution_count": 26,
   "id": "59507a5f",
   "metadata": {},
   "outputs": [],
   "source": [
    "import tensorflow as tf"
   ]
  },
  {
   "cell_type": "code",
   "execution_count": 27,
   "id": "98c12162",
   "metadata": {},
   "outputs": [],
   "source": [
    "train_predict=model.predict(X_train)\n",
    "test_predict=model.predict(X_test)"
   ]
  },
  {
   "cell_type": "code",
   "execution_count": 28,
   "id": "3d9a2c8a",
   "metadata": {},
   "outputs": [],
   "source": [
    "train_predict=scaler.inverse_transform(train_predict)\n",
    "test_predict=scaler.inverse_transform(test_predict)"
   ]
  },
  {
   "cell_type": "code",
   "execution_count": 29,
   "id": "fd39fc44",
   "metadata": {},
   "outputs": [
    {
     "data": {
      "text/plain": [
       "2.858867345201093"
      ]
     },
     "execution_count": 29,
     "metadata": {},
     "output_type": "execute_result"
    }
   ],
   "source": [
    "import math\n",
    "from sklearn.metrics import mean_squared_error\n",
    "math.sqrt(mean_squared_error(y_train,train_predict))"
   ]
  },
  {
   "cell_type": "code",
   "execution_count": 30,
   "id": "4c930a28",
   "metadata": {},
   "outputs": [
    {
     "data": {
      "text/plain": [
       "3.0428959436360152"
      ]
     },
     "execution_count": 30,
     "metadata": {},
     "output_type": "execute_result"
    }
   ],
   "source": [
    "math.sqrt(mean_squared_error(ytest,test_predict))"
   ]
  },
  {
   "cell_type": "code",
   "execution_count": 32,
   "id": "96350550",
   "metadata": {},
   "outputs": [
    {
     "data": {
      "image/png": "[encoded data removed]",
      "text/plain": [
       "<Figure size 1440x720 with 1 Axes>"
      ]
     },
     "metadata": {},
     "output_type": "display_data"
    }
   ],
   "source": [
    "plt.rcParams['figure.figsize']=(20,10)\n",
    "plt.style.use('ggplot')\n",
    "look_back=100\n",
    "trainPredictPlot = np.empty_like(df1)\n",
    "trainPredictPlot[:, :] = np.nan\n",
    "trainPredictPlot[look_back:len(train_predict)+look_back, :] = train_predict\n",
    "# shift test predictions for plotting\n",
    "testPredictPlot = np.empty_like(df1)\n",
    "testPredictPlot[:, :] = np.nan\n",
    "testPredictPlot[len(train_predict)+(look_back*2)+1:len(df1)-1, :] = test_predict\n",
    "# plot baseline and predictions\n",
    "plt.plot(scaler.inverse_transform(df1))\n",
    "plt.plot(trainPredictPlot)\n",
    "plt.plot(testPredictPlot)\n",
    "plt.show()"
   ]
  },
  {
   "cell_type": "markdown",
   "id": "7d975063",
   "metadata": {},
   "source": [
    "#### As it can be seen from the forecasting that the model performed well on the dataset, it is almost close to the actual value of the power consumption  "
   ]
  }
 ],
 "metadata": {
  "kernelspec": {
   "display_name": "Python 3",
   "language": "python",
   "name": "python3"
  },
  "language_info": {
   "codemirror_mode": {
    "name": "ipython",
    "version": 3
   },
   "file_extension": ".py",
   "mimetype": "text/x-python",
   "name": "python",
   "nbconvert_exporter": "python",
   "pygments_lexer": "ipython3",
   "version": "3.8.8"
  }
 },
 "nbformat": 4,
 "nbformat_minor": 5
}
